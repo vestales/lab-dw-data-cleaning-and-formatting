{
  "cells": [
    {
      "cell_type": "markdown",
      "id": "25d7736c-ba17-4aff-b6bb-66eba20fbf4e",
      "metadata": {
        "id": "25d7736c-ba17-4aff-b6bb-66eba20fbf4e"
      },
      "source": [
        "# Lab | Data Cleaning and Formatting"
      ]
    },
    {
      "cell_type": "markdown",
      "id": "d1973e9e-8be6-4039-b70e-d73ee0d94c99",
      "metadata": {
        "id": "d1973e9e-8be6-4039-b70e-d73ee0d94c99"
      },
      "source": [
        "In this lab, we will be working with the customer data from an insurance company, which can be found in the CSV file located at the following link: https://raw.githubusercontent.com/data-bootcamp-v4/data/main/file1.csv\n"
      ]
    },
    {
      "cell_type": "code",
      "execution_count": 1,
      "id": "67bbe38d",
      "metadata": {},
      "outputs": [],
      "source": [
        "import pandas as pd"
      ]
    },
    {
      "cell_type": "code",
      "execution_count": 2,
      "id": "c779c3fe",
      "metadata": {},
      "outputs": [],
      "source": [
        "# Your code here\n",
        "url = 'https://raw.githubusercontent.com/data-bootcamp-v4/data/main/file1.csv'\n",
        "df = pd.read_csv(url)"
      ]
    },
    {
      "cell_type": "markdown",
      "id": "31b8a9e7-7db9-4604-991b-ef6771603e57",
      "metadata": {
        "id": "31b8a9e7-7db9-4604-991b-ef6771603e57"
      },
      "source": [
        "# Challenge 1: Data Cleaning and Formatting"
      ]
    },
    {
      "cell_type": "markdown",
      "id": "81553f19-9f2c-484b-8940-520aff884022",
      "metadata": {
        "id": "81553f19-9f2c-484b-8940-520aff884022"
      },
      "source": [
        "## Exercise 1: Cleaning Column Names"
      ]
    },
    {
      "cell_type": "markdown",
      "id": "34a929f4-1be4-4fa8-adda-42ffd920be90",
      "metadata": {
        "id": "34a929f4-1be4-4fa8-adda-42ffd920be90"
      },
      "source": [
        "To ensure consistency and ease of use, standardize the column names of the dataframe. Start by taking a first look at the dataframe and identifying any column names that need to be modified. Use appropriate naming conventions and make sure that column names are descriptive and informative.\n",
        "\n",
        "*Hint*:\n",
        "- *Column names should be in lower case*\n",
        "- *White spaces in column names should be replaced by `_`*\n",
        "- *`st` could be replaced for `state`*"
      ]
    },
    {
      "cell_type": "code",
      "execution_count": 3,
      "id": "5810735c-8056-4442-bbf2-dda38d3e284a",
      "metadata": {
        "id": "5810735c-8056-4442-bbf2-dda38d3e284a"
      },
      "outputs": [
        {
          "data": {
            "text/html": [
              "<div>\n",
              "<style scoped>\n",
              "    .dataframe tbody tr th:only-of-type {\n",
              "        vertical-align: middle;\n",
              "    }\n",
              "\n",
              "    .dataframe tbody tr th {\n",
              "        vertical-align: top;\n",
              "    }\n",
              "\n",
              "    .dataframe thead th {\n",
              "        text-align: right;\n",
              "    }\n",
              "</style>\n",
              "<table border=\"1\" class=\"dataframe\">\n",
              "  <thead>\n",
              "    <tr style=\"text-align: right;\">\n",
              "      <th></th>\n",
              "      <th>customer</th>\n",
              "      <th>state</th>\n",
              "      <th>gender</th>\n",
              "      <th>education</th>\n",
              "      <th>customer_lifetime_value</th>\n",
              "      <th>income</th>\n",
              "      <th>monthly_premium_auto</th>\n",
              "      <th>number_of_open_complaints</th>\n",
              "      <th>policy_type</th>\n",
              "      <th>vehicle_class</th>\n",
              "      <th>total_claim_amount</th>\n",
              "    </tr>\n",
              "  </thead>\n",
              "  <tbody>\n",
              "    <tr>\n",
              "      <th>0</th>\n",
              "      <td>RB50392</td>\n",
              "      <td>Washington</td>\n",
              "      <td>NaN</td>\n",
              "      <td>Master</td>\n",
              "      <td>NaN</td>\n",
              "      <td>0.0</td>\n",
              "      <td>1000.0</td>\n",
              "      <td>1/0/00</td>\n",
              "      <td>Personal Auto</td>\n",
              "      <td>Four-Door Car</td>\n",
              "      <td>2.704934</td>\n",
              "    </tr>\n",
              "    <tr>\n",
              "      <th>1</th>\n",
              "      <td>QZ44356</td>\n",
              "      <td>Arizona</td>\n",
              "      <td>F</td>\n",
              "      <td>Bachelor</td>\n",
              "      <td>697953.59%</td>\n",
              "      <td>0.0</td>\n",
              "      <td>94.0</td>\n",
              "      <td>1/0/00</td>\n",
              "      <td>Personal Auto</td>\n",
              "      <td>Four-Door Car</td>\n",
              "      <td>1131.464935</td>\n",
              "    </tr>\n",
              "    <tr>\n",
              "      <th>2</th>\n",
              "      <td>AI49188</td>\n",
              "      <td>Nevada</td>\n",
              "      <td>F</td>\n",
              "      <td>Bachelor</td>\n",
              "      <td>1288743.17%</td>\n",
              "      <td>48767.0</td>\n",
              "      <td>108.0</td>\n",
              "      <td>1/0/00</td>\n",
              "      <td>Personal Auto</td>\n",
              "      <td>Two-Door Car</td>\n",
              "      <td>566.472247</td>\n",
              "    </tr>\n",
              "    <tr>\n",
              "      <th>3</th>\n",
              "      <td>WW63253</td>\n",
              "      <td>California</td>\n",
              "      <td>M</td>\n",
              "      <td>Bachelor</td>\n",
              "      <td>764586.18%</td>\n",
              "      <td>0.0</td>\n",
              "      <td>106.0</td>\n",
              "      <td>1/0/00</td>\n",
              "      <td>Corporate Auto</td>\n",
              "      <td>SUV</td>\n",
              "      <td>529.881344</td>\n",
              "    </tr>\n",
              "    <tr>\n",
              "      <th>4</th>\n",
              "      <td>GA49547</td>\n",
              "      <td>Washington</td>\n",
              "      <td>M</td>\n",
              "      <td>High School or Below</td>\n",
              "      <td>536307.65%</td>\n",
              "      <td>36357.0</td>\n",
              "      <td>68.0</td>\n",
              "      <td>1/0/00</td>\n",
              "      <td>Personal Auto</td>\n",
              "      <td>Four-Door Car</td>\n",
              "      <td>17.269323</td>\n",
              "    </tr>\n",
              "    <tr>\n",
              "      <th>...</th>\n",
              "      <td>...</td>\n",
              "      <td>...</td>\n",
              "      <td>...</td>\n",
              "      <td>...</td>\n",
              "      <td>...</td>\n",
              "      <td>...</td>\n",
              "      <td>...</td>\n",
              "      <td>...</td>\n",
              "      <td>...</td>\n",
              "      <td>...</td>\n",
              "      <td>...</td>\n",
              "    </tr>\n",
              "    <tr>\n",
              "      <th>4003</th>\n",
              "      <td>NaN</td>\n",
              "      <td>NaN</td>\n",
              "      <td>NaN</td>\n",
              "      <td>NaN</td>\n",
              "      <td>NaN</td>\n",
              "      <td>NaN</td>\n",
              "      <td>NaN</td>\n",
              "      <td>NaN</td>\n",
              "      <td>NaN</td>\n",
              "      <td>NaN</td>\n",
              "      <td>NaN</td>\n",
              "    </tr>\n",
              "    <tr>\n",
              "      <th>4004</th>\n",
              "      <td>NaN</td>\n",
              "      <td>NaN</td>\n",
              "      <td>NaN</td>\n",
              "      <td>NaN</td>\n",
              "      <td>NaN</td>\n",
              "      <td>NaN</td>\n",
              "      <td>NaN</td>\n",
              "      <td>NaN</td>\n",
              "      <td>NaN</td>\n",
              "      <td>NaN</td>\n",
              "      <td>NaN</td>\n",
              "    </tr>\n",
              "    <tr>\n",
              "      <th>4005</th>\n",
              "      <td>NaN</td>\n",
              "      <td>NaN</td>\n",
              "      <td>NaN</td>\n",
              "      <td>NaN</td>\n",
              "      <td>NaN</td>\n",
              "      <td>NaN</td>\n",
              "      <td>NaN</td>\n",
              "      <td>NaN</td>\n",
              "      <td>NaN</td>\n",
              "      <td>NaN</td>\n",
              "      <td>NaN</td>\n",
              "    </tr>\n",
              "    <tr>\n",
              "      <th>4006</th>\n",
              "      <td>NaN</td>\n",
              "      <td>NaN</td>\n",
              "      <td>NaN</td>\n",
              "      <td>NaN</td>\n",
              "      <td>NaN</td>\n",
              "      <td>NaN</td>\n",
              "      <td>NaN</td>\n",
              "      <td>NaN</td>\n",
              "      <td>NaN</td>\n",
              "      <td>NaN</td>\n",
              "      <td>NaN</td>\n",
              "    </tr>\n",
              "    <tr>\n",
              "      <th>4007</th>\n",
              "      <td>NaN</td>\n",
              "      <td>NaN</td>\n",
              "      <td>NaN</td>\n",
              "      <td>NaN</td>\n",
              "      <td>NaN</td>\n",
              "      <td>NaN</td>\n",
              "      <td>NaN</td>\n",
              "      <td>NaN</td>\n",
              "      <td>NaN</td>\n",
              "      <td>NaN</td>\n",
              "      <td>NaN</td>\n",
              "    </tr>\n",
              "  </tbody>\n",
              "</table>\n",
              "<p>4008 rows × 11 columns</p>\n",
              "</div>"
            ],
            "text/plain": [
              "     customer       state gender             education  \\\n",
              "0     RB50392  Washington    NaN                Master   \n",
              "1     QZ44356     Arizona      F              Bachelor   \n",
              "2     AI49188      Nevada      F              Bachelor   \n",
              "3     WW63253  California      M              Bachelor   \n",
              "4     GA49547  Washington      M  High School or Below   \n",
              "...       ...         ...    ...                   ...   \n",
              "4003      NaN         NaN    NaN                   NaN   \n",
              "4004      NaN         NaN    NaN                   NaN   \n",
              "4005      NaN         NaN    NaN                   NaN   \n",
              "4006      NaN         NaN    NaN                   NaN   \n",
              "4007      NaN         NaN    NaN                   NaN   \n",
              "\n",
              "     customer_lifetime_value   income  monthly_premium_auto  \\\n",
              "0                        NaN      0.0                1000.0   \n",
              "1                 697953.59%      0.0                  94.0   \n",
              "2                1288743.17%  48767.0                 108.0   \n",
              "3                 764586.18%      0.0                 106.0   \n",
              "4                 536307.65%  36357.0                  68.0   \n",
              "...                      ...      ...                   ...   \n",
              "4003                     NaN      NaN                   NaN   \n",
              "4004                     NaN      NaN                   NaN   \n",
              "4005                     NaN      NaN                   NaN   \n",
              "4006                     NaN      NaN                   NaN   \n",
              "4007                     NaN      NaN                   NaN   \n",
              "\n",
              "     number_of_open_complaints     policy_type  vehicle_class  \\\n",
              "0                       1/0/00   Personal Auto  Four-Door Car   \n",
              "1                       1/0/00   Personal Auto  Four-Door Car   \n",
              "2                       1/0/00   Personal Auto   Two-Door Car   \n",
              "3                       1/0/00  Corporate Auto            SUV   \n",
              "4                       1/0/00   Personal Auto  Four-Door Car   \n",
              "...                        ...             ...            ...   \n",
              "4003                       NaN             NaN            NaN   \n",
              "4004                       NaN             NaN            NaN   \n",
              "4005                       NaN             NaN            NaN   \n",
              "4006                       NaN             NaN            NaN   \n",
              "4007                       NaN             NaN            NaN   \n",
              "\n",
              "      total_claim_amount  \n",
              "0               2.704934  \n",
              "1            1131.464935  \n",
              "2             566.472247  \n",
              "3             529.881344  \n",
              "4              17.269323  \n",
              "...                  ...  \n",
              "4003                 NaN  \n",
              "4004                 NaN  \n",
              "4005                 NaN  \n",
              "4006                 NaN  \n",
              "4007                 NaN  \n",
              "\n",
              "[4008 rows x 11 columns]"
            ]
          },
          "execution_count": 3,
          "metadata": {},
          "output_type": "execute_result"
        }
      ],
      "source": [
        "# Your code here\n",
        "df.columns = df.columns.str.lower().str.replace(\" \", \"_\")\n",
        "\n",
        "df.rename(columns= {'st': 'state'}, inplace=True)\n",
        "df"
      ]
    },
    {
      "cell_type": "markdown",
      "id": "9cb501ec-36ff-4589-b872-6252bb150316",
      "metadata": {
        "id": "9cb501ec-36ff-4589-b872-6252bb150316"
      },
      "source": [
        "## Exercise 2: Cleaning invalid Values"
      ]
    },
    {
      "cell_type": "markdown",
      "id": "771fdcf3-8e20-4b06-9c24-3a93ba2b0909",
      "metadata": {
        "id": "771fdcf3-8e20-4b06-9c24-3a93ba2b0909"
      },
      "source": [
        "The dataset contains columns with inconsistent and incorrect values that could affect the accuracy of our analysis. Therefore, we need to clean these columns to ensure that they only contain valid data.\n",
        "\n",
        "Note that this exercise will focus only on cleaning inconsistent values and will not involve handling null values (NaN or None).\n",
        "\n",
        "*Hint*:\n",
        "- *Gender column contains various inconsistent values such as \"F\", \"M\", \"Femal\", \"Male\", \"female\", which need to be standardized, for example, to \"M\" and \"F\".*\n",
        "- *State abbreviations be can replaced with its full name, for example \"AZ\": \"Arizona\", \"Cali\": \"California\", \"WA\": \"Washington\"*\n",
        "- *In education, \"Bachelors\" could be replaced by \"Bachelor\"*\n",
        "- *In Customer Lifetime Value, delete the `%` character*\n",
        "- *In vehicle class, \"Sports Car\", \"Luxury SUV\" and \"Luxury Car\" could be replaced by \"Luxury\"*"
      ]
    },
    {
      "cell_type": "code",
      "execution_count": 4,
      "id": "3f8ee5cb-50ab-48af-8a9f-9a389804033c",
      "metadata": {
        "id": "3f8ee5cb-50ab-48af-8a9f-9a389804033c"
      },
      "outputs": [
        {
          "data": {
            "text/plain": [
              "array([nan, 'F', 'M'], dtype=object)"
            ]
          },
          "execution_count": 4,
          "metadata": {},
          "output_type": "execute_result"
        }
      ],
      "source": [
        "# Your code here\n",
        "\n",
        "df['gender'] = df['gender'].apply(lambda x: 'F' if x == 'Femal' else ('F' if x == 'female' else ('M' if x == 'Male' else x)))\n",
        "\n",
        "df.gender.unique()"
      ]
    },
    {
      "cell_type": "code",
      "execution_count": 5,
      "id": "184ded2a",
      "metadata": {},
      "outputs": [
        {
          "data": {
            "text/plain": [
              "array(['Washington', 'Arizona', 'Nevada', 'California', 'Oregon', nan],\n",
              "      dtype=object)"
            ]
          },
          "execution_count": 5,
          "metadata": {},
          "output_type": "execute_result"
        }
      ],
      "source": [
        "\n",
        "df['state'] = df['state'].apply(lambda x: 'Washington' if x == 'WA' else ('Arizona' if x == 'AZ' else ('California' if x == 'Cali' else x)))\n",
        "\n",
        "df.state.unique()"
      ]
    },
    {
      "cell_type": "code",
      "execution_count": 6,
      "id": "1cc74946",
      "metadata": {},
      "outputs": [
        {
          "data": {
            "text/plain": [
              "array(['Master', 'Bachelor', 'High School or Below', 'College', 'Doctor',\n",
              "       nan], dtype=object)"
            ]
          },
          "execution_count": 6,
          "metadata": {},
          "output_type": "execute_result"
        }
      ],
      "source": [
        "df['education'] = df['education'].apply(lambda x: 'Bachelor' if x == 'Bachelors' else x)\n",
        "\n",
        "df.education.unique()"
      ]
    },
    {
      "cell_type": "code",
      "execution_count": 7,
      "id": "eafb0a8b",
      "metadata": {},
      "outputs": [
        {
          "data": {
            "text/plain": [
              "array(['nan', '697953.59', '1288743.17', ..., '2031499.76', '323912.47',\n",
              "       '899704.02'], dtype=object)"
            ]
          },
          "execution_count": 7,
          "metadata": {},
          "output_type": "execute_result"
        }
      ],
      "source": [
        "df['customer_lifetime_value'] = df['customer_lifetime_value'].apply(lambda x: str(x).replace(\"%\",\"\"))\n",
        "\n",
        "df.customer_lifetime_value.unique()"
      ]
    },
    {
      "cell_type": "code",
      "execution_count": 8,
      "id": "22201fa8",
      "metadata": {},
      "outputs": [
        {
          "data": {
            "text/plain": [
              "array(['Four-Door Car', 'Two-Door Car', 'SUV', 'Luxury', nan],\n",
              "      dtype=object)"
            ]
          },
          "execution_count": 8,
          "metadata": {},
          "output_type": "execute_result"
        }
      ],
      "source": [
        "df['vehicle_class'] = df['vehicle_class'].apply(lambda x: 'Luxury' if x == 'Sports Car' or x == 'Luxury SUV' or x == 'Luxury Car' else x)\n",
        "\n",
        "df.vehicle_class.unique()"
      ]
    },
    {
      "cell_type": "markdown",
      "id": "85ff78ce-0174-4890-9db3-8048b7d7d2d0",
      "metadata": {
        "id": "85ff78ce-0174-4890-9db3-8048b7d7d2d0"
      },
      "source": [
        "## Exercise 3: Formatting data types"
      ]
    },
    {
      "cell_type": "markdown",
      "id": "b91c2cf8-79a2-4baf-9f65-ff2fb22270bd",
      "metadata": {
        "id": "b91c2cf8-79a2-4baf-9f65-ff2fb22270bd"
      },
      "source": [
        "The data types of many columns in the dataset appear to be incorrect. This could impact the accuracy of our analysis. To ensure accurate analysis, we need to correct the data types of these columns. Please update the data types of the columns as appropriate."
      ]
    },
    {
      "cell_type": "markdown",
      "id": "43e5d853-ff9e-43b2-9d92-aef2f78764f3",
      "metadata": {
        "id": "43e5d853-ff9e-43b2-9d92-aef2f78764f3"
      },
      "source": [
        "It is important to note that this exercise does not involve handling null values (NaN or None)."
      ]
    },
    {
      "cell_type": "markdown",
      "id": "329ca691-9196-4419-8969-3596746237a1",
      "metadata": {
        "id": "329ca691-9196-4419-8969-3596746237a1"
      },
      "source": [
        "*Hint*:\n",
        "- *Customer lifetime value should be numeric*\n",
        "- *Number of open complaints has an incorrect format. Look at the different values it takes with `unique()` and take the middle value. As an example, 1/5/00 should be 5. Number of open complaints is a string - remember you can use `split()` to deal with it and take the number you need. Finally, since it should be numeric, cast the column to be in its proper type.*"
      ]
    },
    {
      "cell_type": "code",
      "execution_count": 9,
      "id": "16881911",
      "metadata": {},
      "outputs": [
        {
          "data": {
            "text/html": [
              "<div>\n",
              "<style scoped>\n",
              "    .dataframe tbody tr th:only-of-type {\n",
              "        vertical-align: middle;\n",
              "    }\n",
              "\n",
              "    .dataframe tbody tr th {\n",
              "        vertical-align: top;\n",
              "    }\n",
              "\n",
              "    .dataframe thead th {\n",
              "        text-align: right;\n",
              "    }\n",
              "</style>\n",
              "<table border=\"1\" class=\"dataframe\">\n",
              "  <thead>\n",
              "    <tr style=\"text-align: right;\">\n",
              "      <th></th>\n",
              "      <th>customer</th>\n",
              "      <th>state</th>\n",
              "      <th>gender</th>\n",
              "      <th>education</th>\n",
              "      <th>customer_lifetime_value</th>\n",
              "      <th>income</th>\n",
              "      <th>monthly_premium_auto</th>\n",
              "      <th>number_of_open_complaints</th>\n",
              "      <th>policy_type</th>\n",
              "      <th>vehicle_class</th>\n",
              "      <th>total_claim_amount</th>\n",
              "    </tr>\n",
              "  </thead>\n",
              "  <tbody>\n",
              "    <tr>\n",
              "      <th>36</th>\n",
              "      <td>KY38074</td>\n",
              "      <td>California</td>\n",
              "      <td>NaN</td>\n",
              "      <td>Bachelor</td>\n",
              "      <td>1389173.57</td>\n",
              "      <td>42305.0</td>\n",
              "      <td>117.0</td>\n",
              "      <td>1/0/00</td>\n",
              "      <td>Personal Auto</td>\n",
              "      <td>Four-Door Car</td>\n",
              "      <td>561.600000</td>\n",
              "    </tr>\n",
              "    <tr>\n",
              "      <th>2219</th>\n",
              "      <td>NaN</td>\n",
              "      <td>NaN</td>\n",
              "      <td>NaN</td>\n",
              "      <td>NaN</td>\n",
              "      <td>nan</td>\n",
              "      <td>NaN</td>\n",
              "      <td>NaN</td>\n",
              "      <td>NaN</td>\n",
              "      <td>NaN</td>\n",
              "      <td>NaN</td>\n",
              "      <td>NaN</td>\n",
              "    </tr>\n",
              "    <tr>\n",
              "      <th>2069</th>\n",
              "      <td>NaN</td>\n",
              "      <td>NaN</td>\n",
              "      <td>NaN</td>\n",
              "      <td>NaN</td>\n",
              "      <td>nan</td>\n",
              "      <td>NaN</td>\n",
              "      <td>NaN</td>\n",
              "      <td>NaN</td>\n",
              "      <td>NaN</td>\n",
              "      <td>NaN</td>\n",
              "      <td>NaN</td>\n",
              "    </tr>\n",
              "    <tr>\n",
              "      <th>971</th>\n",
              "      <td>VT78274</td>\n",
              "      <td>Arizona</td>\n",
              "      <td>M</td>\n",
              "      <td>College</td>\n",
              "      <td>493122.13</td>\n",
              "      <td>0.0</td>\n",
              "      <td>68.0</td>\n",
              "      <td>1/0/00</td>\n",
              "      <td>Personal Auto</td>\n",
              "      <td>Four-Door Car</td>\n",
              "      <td>480.159011</td>\n",
              "    </tr>\n",
              "    <tr>\n",
              "      <th>408</th>\n",
              "      <td>HB67642</td>\n",
              "      <td>Arizona</td>\n",
              "      <td>F</td>\n",
              "      <td>High School or Below</td>\n",
              "      <td>3461137.90</td>\n",
              "      <td>20090.0</td>\n",
              "      <td>109.0</td>\n",
              "      <td>1/0/00</td>\n",
              "      <td>Personal Auto</td>\n",
              "      <td>Luxury</td>\n",
              "      <td>523.200000</td>\n",
              "    </tr>\n",
              "    <tr>\n",
              "      <th>471</th>\n",
              "      <td>EK87864</td>\n",
              "      <td>Arizona</td>\n",
              "      <td>F</td>\n",
              "      <td>College</td>\n",
              "      <td>282194.72</td>\n",
              "      <td>38977.0</td>\n",
              "      <td>70.0</td>\n",
              "      <td>1/0/00</td>\n",
              "      <td>Special Auto</td>\n",
              "      <td>Four-Door Car</td>\n",
              "      <td>139.489926</td>\n",
              "    </tr>\n",
              "    <tr>\n",
              "      <th>592</th>\n",
              "      <td>PM27367</td>\n",
              "      <td>California</td>\n",
              "      <td>F</td>\n",
              "      <td>Master</td>\n",
              "      <td>277890.37</td>\n",
              "      <td>73570.0</td>\n",
              "      <td>70.0</td>\n",
              "      <td>1/1/00</td>\n",
              "      <td>Special Auto</td>\n",
              "      <td>Two-Door Car</td>\n",
              "      <td>75.936096</td>\n",
              "    </tr>\n",
              "    <tr>\n",
              "      <th>1295</th>\n",
              "      <td>NaN</td>\n",
              "      <td>NaN</td>\n",
              "      <td>NaN</td>\n",
              "      <td>NaN</td>\n",
              "      <td>nan</td>\n",
              "      <td>NaN</td>\n",
              "      <td>NaN</td>\n",
              "      <td>NaN</td>\n",
              "      <td>NaN</td>\n",
              "      <td>NaN</td>\n",
              "      <td>NaN</td>\n",
              "    </tr>\n",
              "    <tr>\n",
              "      <th>349</th>\n",
              "      <td>YH43527</td>\n",
              "      <td>Oregon</td>\n",
              "      <td>F</td>\n",
              "      <td>College</td>\n",
              "      <td>360586.03</td>\n",
              "      <td>21585.0</td>\n",
              "      <td>92.0</td>\n",
              "      <td>1/0/00</td>\n",
              "      <td>Corporate Auto</td>\n",
              "      <td>Four-Door Car</td>\n",
              "      <td>441.600000</td>\n",
              "    </tr>\n",
              "    <tr>\n",
              "      <th>2940</th>\n",
              "      <td>NaN</td>\n",
              "      <td>NaN</td>\n",
              "      <td>NaN</td>\n",
              "      <td>NaN</td>\n",
              "      <td>nan</td>\n",
              "      <td>NaN</td>\n",
              "      <td>NaN</td>\n",
              "      <td>NaN</td>\n",
              "      <td>NaN</td>\n",
              "      <td>NaN</td>\n",
              "      <td>NaN</td>\n",
              "    </tr>\n",
              "  </tbody>\n",
              "</table>\n",
              "</div>"
            ],
            "text/plain": [
              "     customer       state gender             education  \\\n",
              "36    KY38074  California    NaN              Bachelor   \n",
              "2219      NaN         NaN    NaN                   NaN   \n",
              "2069      NaN         NaN    NaN                   NaN   \n",
              "971   VT78274     Arizona      M               College   \n",
              "408   HB67642     Arizona      F  High School or Below   \n",
              "471   EK87864     Arizona      F               College   \n",
              "592   PM27367  California      F                Master   \n",
              "1295      NaN         NaN    NaN                   NaN   \n",
              "349   YH43527      Oregon      F               College   \n",
              "2940      NaN         NaN    NaN                   NaN   \n",
              "\n",
              "     customer_lifetime_value   income  monthly_premium_auto  \\\n",
              "36                1389173.57  42305.0                 117.0   \n",
              "2219                     nan      NaN                   NaN   \n",
              "2069                     nan      NaN                   NaN   \n",
              "971                493122.13      0.0                  68.0   \n",
              "408               3461137.90  20090.0                 109.0   \n",
              "471                282194.72  38977.0                  70.0   \n",
              "592                277890.37  73570.0                  70.0   \n",
              "1295                     nan      NaN                   NaN   \n",
              "349                360586.03  21585.0                  92.0   \n",
              "2940                     nan      NaN                   NaN   \n",
              "\n",
              "     number_of_open_complaints     policy_type  vehicle_class  \\\n",
              "36                      1/0/00   Personal Auto  Four-Door Car   \n",
              "2219                       NaN             NaN            NaN   \n",
              "2069                       NaN             NaN            NaN   \n",
              "971                     1/0/00   Personal Auto  Four-Door Car   \n",
              "408                     1/0/00   Personal Auto         Luxury   \n",
              "471                     1/0/00    Special Auto  Four-Door Car   \n",
              "592                     1/1/00    Special Auto   Two-Door Car   \n",
              "1295                       NaN             NaN            NaN   \n",
              "349                     1/0/00  Corporate Auto  Four-Door Car   \n",
              "2940                       NaN             NaN            NaN   \n",
              "\n",
              "      total_claim_amount  \n",
              "36            561.600000  \n",
              "2219                 NaN  \n",
              "2069                 NaN  \n",
              "971           480.159011  \n",
              "408           523.200000  \n",
              "471           139.489926  \n",
              "592            75.936096  \n",
              "1295                 NaN  \n",
              "349           441.600000  \n",
              "2940                 NaN  "
            ]
          },
          "execution_count": 9,
          "metadata": {},
          "output_type": "execute_result"
        }
      ],
      "source": [
        "df.sample(10)"
      ]
    },
    {
      "cell_type": "code",
      "execution_count": 10,
      "id": "eb8f5991-73e9-405f-bf1c-6b7c589379a9",
      "metadata": {
        "id": "eb8f5991-73e9-405f-bf1c-6b7c589379a9"
      },
      "outputs": [],
      "source": [
        "# Your code here\n",
        "df[\"customer_lifetime_value\"] = df[\"customer_lifetime_value\"].astype(float) \n"
      ]
    },
    {
      "cell_type": "code",
      "execution_count": 11,
      "id": "64872dda",
      "metadata": {},
      "outputs": [],
      "source": [
        "df[\"number_of_open_complaints\"] = df[\"number_of_open_complaints\"].str.split(\"/\").str[1]\n",
        "\n"
      ]
    },
    {
      "cell_type": "code",
      "execution_count": 12,
      "id": "5c8fe1c2",
      "metadata": {},
      "outputs": [],
      "source": [
        "df[\"number_of_open_complaints\"] = pd.to_numeric(df[\"number_of_open_complaints\"], errors='coerce')"
      ]
    },
    {
      "cell_type": "code",
      "execution_count": 13,
      "id": "97474b87",
      "metadata": {},
      "outputs": [
        {
          "data": {
            "text/plain": [
              "customer                      object\n",
              "state                         object\n",
              "gender                        object\n",
              "education                     object\n",
              "customer_lifetime_value      float64\n",
              "income                       float64\n",
              "monthly_premium_auto         float64\n",
              "number_of_open_complaints    float64\n",
              "policy_type                   object\n",
              "vehicle_class                 object\n",
              "total_claim_amount           float64\n",
              "dtype: object"
            ]
          },
          "execution_count": 13,
          "metadata": {},
          "output_type": "execute_result"
        }
      ],
      "source": [
        "df.dtypes"
      ]
    },
    {
      "cell_type": "markdown",
      "id": "14c52e28-2d0c-4dd2-8bd5-3476e34fadc1",
      "metadata": {
        "id": "14c52e28-2d0c-4dd2-8bd5-3476e34fadc1"
      },
      "source": [
        "## Exercise 4: Dealing with Null values"
      ]
    },
    {
      "cell_type": "markdown",
      "id": "34b9a20f-7d32-4417-975e-1b4dfb0e16cd",
      "metadata": {
        "id": "34b9a20f-7d32-4417-975e-1b4dfb0e16cd"
      },
      "source": [
        "Identify any columns with null or missing values. Identify how many null values each column has. You can use the `isnull()` function in pandas to find columns with null values.\n",
        "\n",
        "Decide on a strategy for handling the null values. There are several options, including:\n",
        "\n",
        "- Drop the rows or columns with null values\n",
        "- Fill the null values with a specific value (such as the column mean or median for numerical variables, and mode for categorical variables)\n",
        "- Fill the null values with the previous or next value in the column\n",
        "- Fill the null values based on a more complex algorithm or model (note: we haven't covered this yet)\n",
        "\n",
        "Implement your chosen strategy to handle the null values. You can use the `fillna()` function in pandas to fill null values or `dropna()` function to drop null values.\n",
        "\n",
        "Verify that your strategy has successfully handled the null values. You can use the `isnull()` function again to check if there are still null values in the dataset.\n",
        "\n",
        "Remember to document your process and explain your reasoning for choosing a particular strategy for handling null values.\n",
        "\n",
        "After formatting data types, as a last step, convert all the numeric variables to integers."
      ]
    },
    {
      "cell_type": "code",
      "execution_count": 14,
      "id": "f184fc35-7831-4836-a0a5-e7f99e01b40e",
      "metadata": {
        "id": "f184fc35-7831-4836-a0a5-e7f99e01b40e"
      },
      "outputs": [],
      "source": [
        "# Your code here\n",
        "df = df.dropna(subset=\"customer\")"
      ]
    },
    {
      "cell_type": "code",
      "execution_count": 15,
      "id": "ccadaada",
      "metadata": {},
      "outputs": [
        {
          "data": {
            "text/plain": [
              "customer                       0\n",
              "state                          0\n",
              "gender                       117\n",
              "education                      0\n",
              "customer_lifetime_value        3\n",
              "income                         0\n",
              "monthly_premium_auto           0\n",
              "number_of_open_complaints      0\n",
              "policy_type                    0\n",
              "vehicle_class                  0\n",
              "total_claim_amount             0\n",
              "dtype: int64"
            ]
          },
          "execution_count": 15,
          "metadata": {},
          "output_type": "execute_result"
        }
      ],
      "source": [
        "df.isnull().sum()"
      ]
    },
    {
      "cell_type": "code",
      "execution_count": 16,
      "id": "26b65288",
      "metadata": {},
      "outputs": [
        {
          "name": "stderr",
          "output_type": "stream",
          "text": [
            "C:\\Users\\germa\\AppData\\Local\\Temp\\ipykernel_30440\\3145204850.py:1: SettingWithCopyWarning: \n",
            "A value is trying to be set on a copy of a slice from a DataFrame.\n",
            "Try using .loc[row_indexer,col_indexer] = value instead\n",
            "\n",
            "See the caveats in the documentation: https://pandas.pydata.org/pandas-docs/stable/user_guide/indexing.html#returning-a-view-versus-a-copy\n",
            "  df[\"customer_lifetime_value\"] = df[\"customer_lifetime_value\"].fillna(round(df[\"customer_lifetime_value\"].mean(), 2))\n"
          ]
        }
      ],
      "source": [
        "df[\"customer_lifetime_value\"] = df[\"customer_lifetime_value\"].fillna(round(df[\"customer_lifetime_value\"].mean(), 2))\n",
        "\n"
      ]
    },
    {
      "cell_type": "code",
      "execution_count": 17,
      "id": "b55b6966",
      "metadata": {},
      "outputs": [
        {
          "data": {
            "text/html": [
              "<div>\n",
              "<style scoped>\n",
              "    .dataframe tbody tr th:only-of-type {\n",
              "        vertical-align: middle;\n",
              "    }\n",
              "\n",
              "    .dataframe tbody tr th {\n",
              "        vertical-align: top;\n",
              "    }\n",
              "\n",
              "    .dataframe thead th {\n",
              "        text-align: right;\n",
              "    }\n",
              "</style>\n",
              "<table border=\"1\" class=\"dataframe\">\n",
              "  <thead>\n",
              "    <tr style=\"text-align: right;\">\n",
              "      <th></th>\n",
              "      <th>customer</th>\n",
              "      <th>state</th>\n",
              "      <th>gender</th>\n",
              "      <th>education</th>\n",
              "      <th>customer_lifetime_value</th>\n",
              "      <th>income</th>\n",
              "      <th>monthly_premium_auto</th>\n",
              "      <th>number_of_open_complaints</th>\n",
              "      <th>policy_type</th>\n",
              "      <th>vehicle_class</th>\n",
              "      <th>total_claim_amount</th>\n",
              "    </tr>\n",
              "  </thead>\n",
              "  <tbody>\n",
              "    <tr>\n",
              "      <th>785</th>\n",
              "      <td>BM15160</td>\n",
              "      <td>California</td>\n",
              "      <td>F</td>\n",
              "      <td>High School or Below</td>\n",
              "      <td>849635.28</td>\n",
              "      <td>44624.0</td>\n",
              "      <td>71.0</td>\n",
              "      <td>1.0</td>\n",
              "      <td>Special Auto</td>\n",
              "      <td>Four-Door Car</td>\n",
              "      <td>73.883044</td>\n",
              "    </tr>\n",
              "    <tr>\n",
              "      <th>472</th>\n",
              "      <td>GV45403</td>\n",
              "      <td>Arizona</td>\n",
              "      <td>M</td>\n",
              "      <td>Bachelor</td>\n",
              "      <td>775712.81</td>\n",
              "      <td>0.0</td>\n",
              "      <td>111.0</td>\n",
              "      <td>0.0</td>\n",
              "      <td>Corporate Auto</td>\n",
              "      <td>Two-Door Car</td>\n",
              "      <td>607.445900</td>\n",
              "    </tr>\n",
              "    <tr>\n",
              "      <th>811</th>\n",
              "      <td>XO36233</td>\n",
              "      <td>Washington</td>\n",
              "      <td>M</td>\n",
              "      <td>Bachelor</td>\n",
              "      <td>864153.00</td>\n",
              "      <td>78904.0</td>\n",
              "      <td>109.0</td>\n",
              "      <td>0.0</td>\n",
              "      <td>Personal Auto</td>\n",
              "      <td>SUV</td>\n",
              "      <td>250.001424</td>\n",
              "    </tr>\n",
              "    <tr>\n",
              "      <th>16</th>\n",
              "      <td>FV94802</td>\n",
              "      <td>Nevada</td>\n",
              "      <td>NaN</td>\n",
              "      <td>High School or Below</td>\n",
              "      <td>256686.78</td>\n",
              "      <td>25049.0</td>\n",
              "      <td>67.0</td>\n",
              "      <td>0.0</td>\n",
              "      <td>Personal Auto</td>\n",
              "      <td>Two-Door Car</td>\n",
              "      <td>454.245098</td>\n",
              "    </tr>\n",
              "    <tr>\n",
              "      <th>797</th>\n",
              "      <td>CH97539</td>\n",
              "      <td>Washington</td>\n",
              "      <td>F</td>\n",
              "      <td>Bachelor</td>\n",
              "      <td>828696.44</td>\n",
              "      <td>40001.0</td>\n",
              "      <td>70.0</td>\n",
              "      <td>0.0</td>\n",
              "      <td>Personal Auto</td>\n",
              "      <td>Four-Door Car</td>\n",
              "      <td>142.567008</td>\n",
              "    </tr>\n",
              "    <tr>\n",
              "      <th>473</th>\n",
              "      <td>QK31192</td>\n",
              "      <td>Arizona</td>\n",
              "      <td>M</td>\n",
              "      <td>High School or Below</td>\n",
              "      <td>407913.27</td>\n",
              "      <td>0.0</td>\n",
              "      <td>114.0</td>\n",
              "      <td>0.0</td>\n",
              "      <td>Corporate Auto</td>\n",
              "      <td>Two-Door Car</td>\n",
              "      <td>631.124372</td>\n",
              "    </tr>\n",
              "    <tr>\n",
              "      <th>637</th>\n",
              "      <td>MR67738</td>\n",
              "      <td>Oregon</td>\n",
              "      <td>F</td>\n",
              "      <td>High School or Below</td>\n",
              "      <td>267686.79</td>\n",
              "      <td>54480.0</td>\n",
              "      <td>67.0</td>\n",
              "      <td>0.0</td>\n",
              "      <td>Personal Auto</td>\n",
              "      <td>Four-Door Car</td>\n",
              "      <td>321.600000</td>\n",
              "    </tr>\n",
              "    <tr>\n",
              "      <th>208</th>\n",
              "      <td>OY38576</td>\n",
              "      <td>Oregon</td>\n",
              "      <td>F</td>\n",
              "      <td>High School or Below</td>\n",
              "      <td>927723.38</td>\n",
              "      <td>71416.0</td>\n",
              "      <td>116.0</td>\n",
              "      <td>0.0</td>\n",
              "      <td>Corporate Auto</td>\n",
              "      <td>SUV</td>\n",
              "      <td>556.800000</td>\n",
              "    </tr>\n",
              "    <tr>\n",
              "      <th>658</th>\n",
              "      <td>UK25655</td>\n",
              "      <td>Oregon</td>\n",
              "      <td>F</td>\n",
              "      <td>Bachelor</td>\n",
              "      <td>343525.01</td>\n",
              "      <td>64348.0</td>\n",
              "      <td>86.0</td>\n",
              "      <td>0.0</td>\n",
              "      <td>Personal Auto</td>\n",
              "      <td>Two-Door Car</td>\n",
              "      <td>212.391975</td>\n",
              "    </tr>\n",
              "    <tr>\n",
              "      <th>128</th>\n",
              "      <td>QH48047</td>\n",
              "      <td>Oregon</td>\n",
              "      <td>NaN</td>\n",
              "      <td>College</td>\n",
              "      <td>1179049.62</td>\n",
              "      <td>25251.0</td>\n",
              "      <td>66.0</td>\n",
              "      <td>0.0</td>\n",
              "      <td>Personal Auto</td>\n",
              "      <td>Four-Door Car</td>\n",
              "      <td>316.800000</td>\n",
              "    </tr>\n",
              "  </tbody>\n",
              "</table>\n",
              "</div>"
            ],
            "text/plain": [
              "    customer       state gender             education  \\\n",
              "785  BM15160  California      F  High School or Below   \n",
              "472  GV45403     Arizona      M              Bachelor   \n",
              "811  XO36233  Washington      M              Bachelor   \n",
              "16   FV94802      Nevada    NaN  High School or Below   \n",
              "797  CH97539  Washington      F              Bachelor   \n",
              "473  QK31192     Arizona      M  High School or Below   \n",
              "637  MR67738      Oregon      F  High School or Below   \n",
              "208  OY38576      Oregon      F  High School or Below   \n",
              "658  UK25655      Oregon      F              Bachelor   \n",
              "128  QH48047      Oregon    NaN               College   \n",
              "\n",
              "     customer_lifetime_value   income  monthly_premium_auto  \\\n",
              "785                849635.28  44624.0                  71.0   \n",
              "472                775712.81      0.0                 111.0   \n",
              "811                864153.00  78904.0                 109.0   \n",
              "16                 256686.78  25049.0                  67.0   \n",
              "797                828696.44  40001.0                  70.0   \n",
              "473                407913.27      0.0                 114.0   \n",
              "637                267686.79  54480.0                  67.0   \n",
              "208                927723.38  71416.0                 116.0   \n",
              "658                343525.01  64348.0                  86.0   \n",
              "128               1179049.62  25251.0                  66.0   \n",
              "\n",
              "     number_of_open_complaints     policy_type  vehicle_class  \\\n",
              "785                        1.0    Special Auto  Four-Door Car   \n",
              "472                        0.0  Corporate Auto   Two-Door Car   \n",
              "811                        0.0   Personal Auto            SUV   \n",
              "16                         0.0   Personal Auto   Two-Door Car   \n",
              "797                        0.0   Personal Auto  Four-Door Car   \n",
              "473                        0.0  Corporate Auto   Two-Door Car   \n",
              "637                        0.0   Personal Auto  Four-Door Car   \n",
              "208                        0.0  Corporate Auto            SUV   \n",
              "658                        0.0   Personal Auto   Two-Door Car   \n",
              "128                        0.0   Personal Auto  Four-Door Car   \n",
              "\n",
              "     total_claim_amount  \n",
              "785           73.883044  \n",
              "472          607.445900  \n",
              "811          250.001424  \n",
              "16           454.245098  \n",
              "797          142.567008  \n",
              "473          631.124372  \n",
              "637          321.600000  \n",
              "208          556.800000  \n",
              "658          212.391975  \n",
              "128          316.800000  "
            ]
          },
          "execution_count": 17,
          "metadata": {},
          "output_type": "execute_result"
        }
      ],
      "source": [
        "df.sample(10)"
      ]
    },
    {
      "cell_type": "code",
      "execution_count": 18,
      "id": "af6d7980",
      "metadata": {},
      "outputs": [
        {
          "data": {
            "text/html": [
              "<div>\n",
              "<style scoped>\n",
              "    .dataframe tbody tr th:only-of-type {\n",
              "        vertical-align: middle;\n",
              "    }\n",
              "\n",
              "    .dataframe tbody tr th {\n",
              "        vertical-align: top;\n",
              "    }\n",
              "\n",
              "    .dataframe thead th {\n",
              "        text-align: right;\n",
              "    }\n",
              "</style>\n",
              "<table border=\"1\" class=\"dataframe\">\n",
              "  <thead>\n",
              "    <tr style=\"text-align: right;\">\n",
              "      <th></th>\n",
              "      <th>customer</th>\n",
              "      <th>state</th>\n",
              "      <th>gender</th>\n",
              "      <th>education</th>\n",
              "      <th>customer_lifetime_value</th>\n",
              "      <th>income</th>\n",
              "      <th>monthly_premium_auto</th>\n",
              "      <th>number_of_open_complaints</th>\n",
              "      <th>policy_type</th>\n",
              "      <th>vehicle_class</th>\n",
              "      <th>total_claim_amount</th>\n",
              "    </tr>\n",
              "  </thead>\n",
              "  <tbody>\n",
              "    <tr>\n",
              "      <th>0</th>\n",
              "      <td>RB50392</td>\n",
              "      <td>Washington</td>\n",
              "      <td>NaN</td>\n",
              "      <td>Master</td>\n",
              "      <td>793690.26</td>\n",
              "      <td>0.0</td>\n",
              "      <td>1000.0</td>\n",
              "      <td>0.0</td>\n",
              "      <td>Personal Auto</td>\n",
              "      <td>Four-Door Car</td>\n",
              "      <td>2.704934</td>\n",
              "    </tr>\n",
              "    <tr>\n",
              "      <th>1</th>\n",
              "      <td>QZ44356</td>\n",
              "      <td>Arizona</td>\n",
              "      <td>F</td>\n",
              "      <td>Bachelor</td>\n",
              "      <td>697953.59</td>\n",
              "      <td>0.0</td>\n",
              "      <td>94.0</td>\n",
              "      <td>0.0</td>\n",
              "      <td>Personal Auto</td>\n",
              "      <td>Four-Door Car</td>\n",
              "      <td>1131.464935</td>\n",
              "    </tr>\n",
              "    <tr>\n",
              "      <th>2</th>\n",
              "      <td>AI49188</td>\n",
              "      <td>Nevada</td>\n",
              "      <td>F</td>\n",
              "      <td>Bachelor</td>\n",
              "      <td>1288743.17</td>\n",
              "      <td>48767.0</td>\n",
              "      <td>108.0</td>\n",
              "      <td>0.0</td>\n",
              "      <td>Personal Auto</td>\n",
              "      <td>Two-Door Car</td>\n",
              "      <td>566.472247</td>\n",
              "    </tr>\n",
              "    <tr>\n",
              "      <th>3</th>\n",
              "      <td>WW63253</td>\n",
              "      <td>California</td>\n",
              "      <td>M</td>\n",
              "      <td>Bachelor</td>\n",
              "      <td>764586.18</td>\n",
              "      <td>0.0</td>\n",
              "      <td>106.0</td>\n",
              "      <td>0.0</td>\n",
              "      <td>Corporate Auto</td>\n",
              "      <td>SUV</td>\n",
              "      <td>529.881344</td>\n",
              "    </tr>\n",
              "    <tr>\n",
              "      <th>4</th>\n",
              "      <td>GA49547</td>\n",
              "      <td>Washington</td>\n",
              "      <td>M</td>\n",
              "      <td>High School or Below</td>\n",
              "      <td>536307.65</td>\n",
              "      <td>36357.0</td>\n",
              "      <td>68.0</td>\n",
              "      <td>0.0</td>\n",
              "      <td>Personal Auto</td>\n",
              "      <td>Four-Door Car</td>\n",
              "      <td>17.269323</td>\n",
              "    </tr>\n",
              "    <tr>\n",
              "      <th>5</th>\n",
              "      <td>OC83172</td>\n",
              "      <td>Oregon</td>\n",
              "      <td>F</td>\n",
              "      <td>Bachelor</td>\n",
              "      <td>825629.78</td>\n",
              "      <td>62902.0</td>\n",
              "      <td>69.0</td>\n",
              "      <td>0.0</td>\n",
              "      <td>Personal Auto</td>\n",
              "      <td>Two-Door Car</td>\n",
              "      <td>159.383042</td>\n",
              "    </tr>\n",
              "    <tr>\n",
              "      <th>6</th>\n",
              "      <td>XZ87318</td>\n",
              "      <td>Oregon</td>\n",
              "      <td>F</td>\n",
              "      <td>College</td>\n",
              "      <td>538089.86</td>\n",
              "      <td>55350.0</td>\n",
              "      <td>67.0</td>\n",
              "      <td>0.0</td>\n",
              "      <td>Corporate Auto</td>\n",
              "      <td>Four-Door Car</td>\n",
              "      <td>321.600000</td>\n",
              "    </tr>\n",
              "    <tr>\n",
              "      <th>7</th>\n",
              "      <td>CF85061</td>\n",
              "      <td>Arizona</td>\n",
              "      <td>M</td>\n",
              "      <td>Master</td>\n",
              "      <td>721610.03</td>\n",
              "      <td>0.0</td>\n",
              "      <td>101.0</td>\n",
              "      <td>0.0</td>\n",
              "      <td>Corporate Auto</td>\n",
              "      <td>Four-Door Car</td>\n",
              "      <td>363.029680</td>\n",
              "    </tr>\n",
              "    <tr>\n",
              "      <th>8</th>\n",
              "      <td>DY87989</td>\n",
              "      <td>Oregon</td>\n",
              "      <td>M</td>\n",
              "      <td>Bachelor</td>\n",
              "      <td>2412750.40</td>\n",
              "      <td>14072.0</td>\n",
              "      <td>71.0</td>\n",
              "      <td>0.0</td>\n",
              "      <td>Corporate Auto</td>\n",
              "      <td>Four-Door Car</td>\n",
              "      <td>511.200000</td>\n",
              "    </tr>\n",
              "    <tr>\n",
              "      <th>9</th>\n",
              "      <td>BQ94931</td>\n",
              "      <td>Oregon</td>\n",
              "      <td>F</td>\n",
              "      <td>College</td>\n",
              "      <td>738817.81</td>\n",
              "      <td>28812.0</td>\n",
              "      <td>93.0</td>\n",
              "      <td>0.0</td>\n",
              "      <td>Special Auto</td>\n",
              "      <td>Four-Door Car</td>\n",
              "      <td>425.527834</td>\n",
              "    </tr>\n",
              "    <tr>\n",
              "      <th>10</th>\n",
              "      <td>SX51350</td>\n",
              "      <td>California</td>\n",
              "      <td>M</td>\n",
              "      <td>College</td>\n",
              "      <td>473899.20</td>\n",
              "      <td>0.0</td>\n",
              "      <td>67.0</td>\n",
              "      <td>0.0</td>\n",
              "      <td>Personal Auto</td>\n",
              "      <td>Four-Door Car</td>\n",
              "      <td>482.400000</td>\n",
              "    </tr>\n",
              "  </tbody>\n",
              "</table>\n",
              "</div>"
            ],
            "text/plain": [
              "   customer       state gender             education  customer_lifetime_value  \\\n",
              "0   RB50392  Washington    NaN                Master                793690.26   \n",
              "1   QZ44356     Arizona      F              Bachelor                697953.59   \n",
              "2   AI49188      Nevada      F              Bachelor               1288743.17   \n",
              "3   WW63253  California      M              Bachelor                764586.18   \n",
              "4   GA49547  Washington      M  High School or Below                536307.65   \n",
              "5   OC83172      Oregon      F              Bachelor                825629.78   \n",
              "6   XZ87318      Oregon      F               College                538089.86   \n",
              "7   CF85061     Arizona      M                Master                721610.03   \n",
              "8   DY87989      Oregon      M              Bachelor               2412750.40   \n",
              "9   BQ94931      Oregon      F               College                738817.81   \n",
              "10  SX51350  California      M               College                473899.20   \n",
              "\n",
              "     income  monthly_premium_auto  number_of_open_complaints     policy_type  \\\n",
              "0       0.0                1000.0                        0.0   Personal Auto   \n",
              "1       0.0                  94.0                        0.0   Personal Auto   \n",
              "2   48767.0                 108.0                        0.0   Personal Auto   \n",
              "3       0.0                 106.0                        0.0  Corporate Auto   \n",
              "4   36357.0                  68.0                        0.0   Personal Auto   \n",
              "5   62902.0                  69.0                        0.0   Personal Auto   \n",
              "6   55350.0                  67.0                        0.0  Corporate Auto   \n",
              "7       0.0                 101.0                        0.0  Corporate Auto   \n",
              "8   14072.0                  71.0                        0.0  Corporate Auto   \n",
              "9   28812.0                  93.0                        0.0    Special Auto   \n",
              "10      0.0                  67.0                        0.0   Personal Auto   \n",
              "\n",
              "    vehicle_class  total_claim_amount  \n",
              "0   Four-Door Car            2.704934  \n",
              "1   Four-Door Car         1131.464935  \n",
              "2    Two-Door Car          566.472247  \n",
              "3             SUV          529.881344  \n",
              "4   Four-Door Car           17.269323  \n",
              "5    Two-Door Car          159.383042  \n",
              "6   Four-Door Car          321.600000  \n",
              "7   Four-Door Car          363.029680  \n",
              "8   Four-Door Car          511.200000  \n",
              "9   Four-Door Car          425.527834  \n",
              "10  Four-Door Car          482.400000  "
            ]
          },
          "execution_count": 18,
          "metadata": {},
          "output_type": "execute_result"
        }
      ],
      "source": [
        "df.head(11)"
      ]
    },
    {
      "cell_type": "code",
      "execution_count": 19,
      "id": "ce78aaf0",
      "metadata": {},
      "outputs": [
        {
          "name": "stderr",
          "output_type": "stream",
          "text": [
            "C:\\Users\\germa\\AppData\\Local\\Temp\\ipykernel_30440\\46693862.py:1: SettingWithCopyWarning: \n",
            "A value is trying to be set on a copy of a slice from a DataFrame.\n",
            "Try using .loc[row_indexer,col_indexer] = value instead\n",
            "\n",
            "See the caveats in the documentation: https://pandas.pydata.org/pandas-docs/stable/user_guide/indexing.html#returning-a-view-versus-a-copy\n",
            "  df[\"gender\"] = df[\"gender\"].fillna(df[\"gender\"].mode()[0])\n"
          ]
        }
      ],
      "source": [
        "df[\"gender\"] = df[\"gender\"].fillna(df[\"gender\"].mode()[0])"
      ]
    },
    {
      "cell_type": "markdown",
      "id": "98416351-e999-4156-9834-9b00a311adfa",
      "metadata": {
        "id": "98416351-e999-4156-9834-9b00a311adfa"
      },
      "source": [
        "## Exercise 5: Dealing with duplicates"
      ]
    },
    {
      "cell_type": "markdown",
      "id": "ea0816a7-a18e-4d4c-b667-a8452a800bd1",
      "metadata": {
        "id": "ea0816a7-a18e-4d4c-b667-a8452a800bd1"
      },
      "source": [
        "Use the `.duplicated()` method to identify any duplicate rows in the dataframe.\n",
        "\n",
        "Decide on a strategy for handling the duplicates. Options include:\n",
        "- Dropping all duplicate rows\n",
        "- Keeping only the first occurrence of each duplicated row\n",
        "- Keeping only the last occurrence of each duplicated row\n",
        "- Dropping duplicates based on a subset of columns\n",
        "- Dropping duplicates based on a specific column\n",
        "\n",
        "Implement your chosen strategy using the `drop_duplicates()` function.\n",
        "\n",
        "Verify that your strategy has successfully handled the duplicates by checking for duplicates again using `.duplicated()`.\n",
        "\n",
        "Remember to document your process and explain your reasoning for choosing a particular strategy for handling duplicates.\n",
        "\n",
        "Save the cleaned dataset to a new CSV file.\n",
        "\n",
        "*Hint*: *after dropping duplicates, reset the index to ensure consistency*."
      ]
    },
    {
      "cell_type": "code",
      "execution_count": 20,
      "id": "1929362c-47ed-47cb-baca-358b78d401a0",
      "metadata": {
        "id": "1929362c-47ed-47cb-baca-358b78d401a0"
      },
      "outputs": [
        {
          "data": {
            "text/plain": [
              "0"
            ]
          },
          "execution_count": 20,
          "metadata": {},
          "output_type": "execute_result"
        }
      ],
      "source": [
        "# Your code here\n",
        "\n",
        "#df[\"customer\"].duplicated().sum()\n",
        "\n",
        "df.duplicated().sum()"
      ]
    },
    {
      "cell_type": "code",
      "execution_count": 21,
      "id": "002780eb",
      "metadata": {},
      "outputs": [],
      "source": [
        "df.to_csv(\"lab_clientes_revisado.csv\", index = False)"
      ]
    },
    {
      "cell_type": "markdown",
      "id": "60840701-4783-40e2-b4d8-55303f9100c9",
      "metadata": {
        "id": "60840701-4783-40e2-b4d8-55303f9100c9"
      },
      "source": [
        "# Bonus: Challenge 2: creating functions on a separate `py` file"
      ]
    },
    {
      "cell_type": "markdown",
      "id": "9d1adb3a-17cf-4899-8041-da21a4337fb4",
      "metadata": {
        "id": "9d1adb3a-17cf-4899-8041-da21a4337fb4"
      },
      "source": [
        "Put all the data cleaning and formatting steps into functions, and create a main function that performs all the cleaning and formatting.\n",
        "\n",
        "Write these functions in separate .py file(s). By putting these steps into functions, we can make the code more modular and easier to maintain."
      ]
    },
    {
      "cell_type": "markdown",
      "id": "0e170dc2-b62c-417a-8248-e63ed18a70c4",
      "metadata": {
        "id": "0e170dc2-b62c-417a-8248-e63ed18a70c4"
      },
      "source": [
        "*Hint: autoreload module is a utility module in Python that allows you to automatically reload modules in the current session when changes are made to the source code. This can be useful in situations where you are actively developing code and want to see the effects of changes you make without having to constantly restart the Python interpreter or Jupyter Notebook kernel.*"
      ]
    },
    {
      "cell_type": "code",
      "execution_count": 22,
      "id": "a52c6dfc-cd11-4d01-bda4-f719fa33e9a4",
      "metadata": {
        "id": "a52c6dfc-cd11-4d01-bda4-f719fa33e9a4"
      },
      "outputs": [],
      "source": [
        "# Your code here"
      ]
    },
    {
      "cell_type": "markdown",
      "id": "80f846bb-3f5e-4ca2-96c0-900728daca5a",
      "metadata": {
        "id": "80f846bb-3f5e-4ca2-96c0-900728daca5a",
        "tags": []
      },
      "source": [
        "# Bonus: Challenge 3: Analyzing Clean and Formated Data"
      ]
    },
    {
      "cell_type": "markdown",
      "id": "9021630e-cc90-446c-b5bd-264d6c864207",
      "metadata": {
        "id": "9021630e-cc90-446c-b5bd-264d6c864207"
      },
      "source": [
        "You have been tasked with analyzing the data to identify potential areas for improving customer retention and profitability. Your goal is to identify customers with a high policy claim amount and a low customer lifetime value.\n",
        "\n",
        "In the Pandas Lab, we only looked at high policy claim amounts because we couldn't look into low customer lifetime values. If we had tried to work with that column, we wouldn't have been able to because customer lifetime value wasn't clean and in its proper format. So after cleaning and formatting the data, let's get some more interesting insights!\n",
        "\n",
        "Instructions:\n",
        "\n",
        "- Review the statistics again for total claim amount and customer lifetime value to gain an understanding of the data.\n",
        "- To identify potential areas for improving customer retention and profitability, we want to focus on customers with a high policy claim amount and a low customer lifetime value. Consider customers with a high policy claim amount to be those in the top 25% of the total claim amount, and clients with a low customer lifetime value to be those in the bottom 25% of the customer lifetime value. Create a pandas DataFrame object that contains information about customers with a policy claim amount greater than the 75th percentile and a customer lifetime value in the bottom 25th percentile.\n",
        "- Use DataFrame methods to calculate summary statistics about the high policy claim amount and low customer lifetime value data. To do so, select both columns of the dataframe simultaneously and pass it to the `.describe()` method. This will give you descriptive statistics, such as mean, median, standard deviation, minimum and maximum values for both columns at the same time, allowing you to compare and analyze their characteristics."
      ]
    },
    {
      "cell_type": "code",
      "execution_count": 23,
      "id": "211e82b5-461a-4d6f-8a23-4deccb84173c",
      "metadata": {
        "id": "211e82b5-461a-4d6f-8a23-4deccb84173c"
      },
      "outputs": [],
      "source": [
        "# Your code here"
      ]
    }
  ],
  "metadata": {
    "colab": {
      "provenance": []
    },
    "kernelspec": {
      "display_name": "Python 3 (ipykernel)",
      "language": "python",
      "name": "python3"
    },
    "language_info": {
      "codemirror_mode": {
        "name": "ipython",
        "version": 3
      },
      "file_extension": ".py",
      "mimetype": "text/x-python",
      "name": "python",
      "nbconvert_exporter": "python",
      "pygments_lexer": "ipython3",
      "version": "3.11.7"
    }
  },
  "nbformat": 4,
  "nbformat_minor": 5
}
